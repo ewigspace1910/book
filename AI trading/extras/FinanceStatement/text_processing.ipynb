{
 "cells": [
  {
   "cell_type": "markdown",
   "metadata": {},
   "source": [
    "# Text Processing\n",
    "\n",
    "## Capturing Text Data\n",
    "\n",
    "### Plain Text"
   ]
  },
  {
   "cell_type": "code",
   "execution_count": 1,
   "metadata": {},
   "outputs": [
    {
     "name": "stdout",
     "output_type": "stream",
     "text": [
      "Hieroglyphic writing dates from c. 3000 BC, and is composed of hundreds of symbols. A hieroglyph can represent a word, a sound, or a silent determinative; and the same symbol can serve different purposes in different contexts. Hieroglyphs were a formal script, used on stone monuments and in tombs, that could be as detailed as individual works of art.\n",
      "\n"
     ]
    }
   ],
   "source": [
    "import os\n",
    "\n",
    "# Read in a plain text file\n",
    "with open(os.path.join(\"data\", \"hieroglyph.txt\"), \"r\") as f:\n",
    "    text = f.read()\n",
    "    print(text)"
   ]
  },
  {
   "cell_type": "markdown",
   "metadata": {},
   "source": [
    "### Tabular Data"
   ]
  },
  {
   "cell_type": "code",
   "execution_count": 2,
   "metadata": {
    "scrolled": true
   },
   "outputs": [
    {
     "data": {
      "text/html": [
       "<div>\n",
       "<style scoped>\n",
       "    .dataframe tbody tr th:only-of-type {\n",
       "        vertical-align: middle;\n",
       "    }\n",
       "\n",
       "    .dataframe tbody tr th {\n",
       "        vertical-align: top;\n",
       "    }\n",
       "\n",
       "    .dataframe thead th {\n",
       "        text-align: right;\n",
       "    }\n",
       "</style>\n",
       "<table border=\"1\" class=\"dataframe\">\n",
       "  <thead>\n",
       "    <tr style=\"text-align: right;\">\n",
       "      <th></th>\n",
       "      <th>publisher</th>\n",
       "      <th>title</th>\n",
       "    </tr>\n",
       "  </thead>\n",
       "  <tbody>\n",
       "    <tr>\n",
       "      <th>0</th>\n",
       "      <td>Livemint</td>\n",
       "      <td>fed's charles plosser sees high bar for change...</td>\n",
       "    </tr>\n",
       "    <tr>\n",
       "      <th>1</th>\n",
       "      <td>IFA Magazine</td>\n",
       "      <td>us open: stocks fall after fed official hints ...</td>\n",
       "    </tr>\n",
       "    <tr>\n",
       "      <th>2</th>\n",
       "      <td>IFA Magazine</td>\n",
       "      <td>fed risks falling 'behind the curve', charles ...</td>\n",
       "    </tr>\n",
       "    <tr>\n",
       "      <th>3</th>\n",
       "      <td>Moneynews</td>\n",
       "      <td>fed's plosser: nasty weather has curbed job gr...</td>\n",
       "    </tr>\n",
       "    <tr>\n",
       "      <th>4</th>\n",
       "      <td>NASDAQ</td>\n",
       "      <td>plosser: fed may have to accelerate tapering pace</td>\n",
       "    </tr>\n",
       "  </tbody>\n",
       "</table>\n",
       "</div>"
      ],
      "text/plain": [
       "      publisher                                              title\n",
       "0      Livemint  fed's charles plosser sees high bar for change...\n",
       "1  IFA Magazine  us open: stocks fall after fed official hints ...\n",
       "2  IFA Magazine  fed risks falling 'behind the curve', charles ...\n",
       "3     Moneynews  fed's plosser: nasty weather has curbed job gr...\n",
       "4        NASDAQ  plosser: fed may have to accelerate tapering pace"
      ]
     },
     "execution_count": 2,
     "metadata": {},
     "output_type": "execute_result"
    }
   ],
   "source": [
    "import pandas as pd\n",
    "\n",
    "# Extract text column from a dataframe\n",
    "df = pd.read_csv(os.path.join(\"data\", \"news.csv\"))\n",
    "df.head()[['publisher', 'title']]\n",
    "\n",
    "# Convert text column to lowercase\n",
    "df['title'] = df['title'].str.lower()\n",
    "df.head()[['publisher', 'title']]"
   ]
  },
  {
   "cell_type": "markdown",
   "metadata": {},
   "source": [
    "### Online Resource"
   ]
  },
  {
   "cell_type": "code",
   "execution_count": 3,
   "metadata": {
    "scrolled": true
   },
   "outputs": [
    {
     "name": "stdout",
     "output_type": "stream",
     "text": [
      "{\n",
      "    \"success\": {\n",
      "        \"total\": 1\n",
      "    },\n",
      "    \"contents\": {\n",
      "        \"quotes\": [\n",
      "            {\n",
      "                \"quote\": \"The things you learn in maturity aren't simple things such as acquiring information and skills. You learn not to engage in self-destructive behavior. You learn not to burn up energy in anxiety. You discover how to manage your tensions. You learn that self-pity and resentment are among the most toxic of drugs. You find that the world loves talent but pays off on character.\",\n",
      "                \"length\": \"374\",\n",
      "                \"author\": \"John Gardner\",\n",
      "                \"tags\": [\n",
      "                    \"character\",\n",
      "                    \"inspire\",\n",
      "                    \"life\",\n",
      "                    \"management\",\n",
      "                    \"maturity\"\n",
      "                ],\n",
      "                \"category\": \"inspire\",\n",
      "                \"language\": \"en\",\n",
      "                \"date\": \"2021-05-17\",\n",
      "                \"permalink\": \"https://theysaidso.com/quote/john-gardner-the-things-you-learn-in-maturity-arent-simple-things-such-as-acquir\",\n",
      "                \"id\": \"hWeaTjHTSnWGUMWwmtyfTweF\",\n",
      "                \"background\": \"https://theysaidso.com/img/qod/qod-inspire.jpg\",\n",
      "                \"title\": \"Inspiring Quote of the day\"\n",
      "            }\n",
      "        ]\n",
      "    },\n",
      "    \"baseurl\": \"https://theysaidso.com\",\n",
      "    \"copyright\": {\n",
      "        \"year\": 2023,\n",
      "        \"url\": \"https://theysaidso.com\"\n",
      "    }\n",
      "}\n",
      "The things you learn in maturity aren't simple things such as acquiring information and skills. You learn not to engage in self-destructive behavior. You learn not to burn up energy in anxiety. You discover how to manage your tensions. You learn that self-pity and resentment are among the most toxic of drugs. You find that the world loves talent but pays off on character. \n",
      "-- John Gardner\n"
     ]
    }
   ],
   "source": [
    "import requests\n",
    "import json\n",
    "\n",
    "# Fetch data from a REST API\n",
    "r = requests.get(\n",
    "    \"https://quotes.rest/qod.json\")\n",
    "res = r.json()\n",
    "print(json.dumps(res, indent=4))\n",
    "\n",
    "# Extract relevant object and field\n",
    "q = res[\"contents\"][\"quotes\"][0]\n",
    "print(q[\"quote\"], \"\\n--\", q[\"author\"])"
   ]
  },
  {
   "cell_type": "markdown",
   "metadata": {},
   "source": [
    "## Cleaning"
   ]
  },
  {
   "cell_type": "code",
   "execution_count": 4,
   "metadata": {
    "scrolled": true
   },
   "outputs": [
    {
     "name": "stdout",
     "output_type": "stream",
     "text": [
      "<html lang=\"en\" op=\"news\"><head><meta name=\"referrer\" content=\"origin\"><meta name=\"viewport\" content=\"width=device-width, initial-scale=1.0\"><link rel=\"stylesheet\" type=\"text/css\" href=\"news.css?t6cz9VDBRNMVBhMCuz1j\">\n",
      "        <link rel=\"shortcut icon\" href=\"favicon.ico\">\n",
      "          <link rel=\"alternate\" type=\"application/rss+xml\" title=\"RSS\" href=\"rss\">\n",
      "        <title>Hacker News</title></head><body><center><table id=\"hnmain\" border=\"0\" cellpadding=\"0\" cellspacing=\"0\" width=\"85%\" bgcolor=\"#f6f6ef\">\n",
      "        <tr><td bgcolor=\"#ff6600\"><table border=\"0\" cellpadding=\"0\" cellspacing=\"0\" width=\"100%\" style=\"padding:2px\"><tr><td style=\"width:18px;padding-right:4px\"><a href=\"https://news.ycombinator.com\"><img src=\"y18.gif\" width=\"18\" height=\"18\" style=\"border:1px white solid;\"></a></td>\n",
      "                  <td style=\"line-height:12pt; height:10px;\"><span class=\"pagetop\"><b class=\"hnname\"><a href=\"news\">Hacker News</a></b>\n",
      "              <a href=\"newest\">new</a> | <a href=\"front\">past</a> | <a href=\"newcomments\">comments</a> | <a href=\"ask\">ask</a> | <a href=\"show\">show</a> | <a href=\"jobs\">jobs</a> | <a href=\"submit\">submit</a>            </span></td><td style=\"text-align:right;padding-right:4px;\"><span class=\"pagetop\">\n",
      "                              <a href=\"login?goto=news\">login</a>\n",
      "                          </span></td>\n",
      "              </tr></table></td></tr>\n",
      "<tr id=\"pagespace\" title=\"\" style=\"height:10px\"></tr><tr><td><table border=\"0\" cellpadding=\"0\" cellspacing=\"0\" class=\"itemlist\">\n",
      "              <tr class='athing' id='27173717'>\n",
      "      <td align=\"right\" valign=\"top\" class=\"title\"><span class=\"rank\">1.</span></td>      <td valign=\"top\" class=\"votelinks\"><center><a id='up_27173717' href='vote?id=27173717&amp;how=up&amp;goto=news'><div class='votearrow' title='upvote'></div></a></center></td><td class=\"title\"><a href=\"https://seaglass.cs.washington.edu/\" class=\"storylink\">SeaGlass: City-Wide IMSI-Catcher Detection (2017)</a><span class=\"sitebit comhead\"> (<a href=\"from?site=washington.edu\"><span class=\"sitestr\">washington.edu</span></a>)</span></td></tr><tr><td colspan=\"2\"></td><td class=\"subtext\">\n",
      "        <span class=\"score\" id=\"score_27173717\">297 points</span> by <a href=\"user?id=kogir\" class=\"hnuser\">kogir</a> <span class=\"age\"><a href=\"item?id=27173717\">11 hours ago</a></span> <span id=\"unv_27173717\"></span> | <a href=\"hide?id=27173717&amp;goto=news\">hide</a> | <a href=\"item?id=27173717\">46&nbsp;comments</a>              </td></tr>\n",
      "      <tr class=\"spacer\" style=\"height:5px\"></tr>\n",
      "                <tr class='athing' id='27175913'>\n",
      "      <td align=\"right\" valign=\"top\" class=\"title\"><span class=\"rank\">2.</span></td>      <td valign=\"top\" class=\"votelinks\"><center><a id='up_27175913' href='vote?id=27175913&amp;how=up&amp;goto=news'><div class='votearrow' title='upvote'></div></a></center></td><td class=\"title\"><a href=\"https://coincarboncap.com/\" class=\"storylink\">Coin Carbon Cap – PoW cryptocurrencies ranked by energy efficiency</a><span class=\"sitebit comhead\"> (<a href=\"from?site=coincarboncap.com\"><span class=\"sitestr\">coincarboncap.com</span></a>)</span></td></tr><tr><td colspan=\"2\"></td><td class=\"subtext\">\n",
      "        <span class=\"score\" id=\"score_27175913\">201 points</span> by <a href=\"user?id=GBiT\" class=\"hnuser\">GBiT</a> <span class=\"age\"><a href=\"item?id=27175913\">6 hours ago</a></span> <span id=\"unv_27175913\"></span> | <a href=\"hide?id=27175913&amp;goto=news\">hide</a> | <a href=\"item?id=27175913\">150&nbsp;comments</a>              </td></tr>\n",
      "      <tr class=\"spacer\" style=\"height:5px\"></tr>\n",
      "                <tr class='athing' id='27174188'>\n",
      "      <td align=\"right\" valign=\"top\" class=\"title\"><span class=\"rank\">3.</span></td>      <td valign=\"top\" class=\"votelinks\"><center><a id='up_27174188' href='vote?id=27174188&amp;how=up&amp;goto=news'><div class='votearrow' title='upvote'></div></a></center></td><td class=\"title\"><a href=\"https://html-notepad.com/\" class=\"storylink\">HTML Notepad – HTML WYSIWYG editor</a><span class=\"sitebit comhead\"> (<a href=\"from?site=html-notepad.com\"><span class=\"sitestr\">html-notepad.com</span></a>)</span></td></tr><tr><td colspan=\"2\"></td><td class=\"subtext\">\n",
      "        <span class=\"score\" id=\"score_27174188\">188 points</span> by <a href=\"user?id=Tomte\" class=\"hnuser\">Tomte</a> <span class=\"age\"><a href=\"item?id=27174188\">10 hours ago</a></span> <span id=\"unv_27174188\"></span> | <a href=\"hide?id=27174188&amp;goto=news\">hide</a> | <a href=\"item?id=27174188\">59&nbsp;comments</a>              </td></tr>\n",
      "      <tr class=\"spacer\" style=\"height:5px\"></tr>\n",
      "                <tr class='athing' id='27164009'>\n",
      "      <td align=\"right\" valign=\"top\" class=\"title\"><span class=\"rank\">4.</span></td>      <td valign=\"top\" class=\"votelinks\"><center><a id='up_27164009' href='vote?id=27164009&amp;how=up&amp;goto=news'><div class='votearrow' title='upvote'></div></a></center></td><td class=\"title\"><a href=\"https://raphlinus.github.io/gpu/2021/05/13/stack-monoid-revisited.html\" class=\"storylink\">The stack monoid revisited</a><span class=\"sitebit comhead\"> (<a href=\"from?site=raphlinus.github.io\"><span class=\"sitestr\">raphlinus.github.io</span></a>)</span></td></tr><tr><td colspan=\"2\"></td><td class=\"subtext\">\n",
      "        <span class=\"score\" id=\"score_27164009\">147 points</span> by <a href=\"user?id=harperlee\" class=\"hnuser\">harperlee</a> <span class=\"age\"><a href=\"item?id=27164009\">10 hours ago</a></span> <span id=\"unv_27164009\"></span> | <a href=\"hide?id=27164009&amp;goto=news\">hide</a> | <a href=\"item?id=27164009\">2&nbsp;comments</a>              </td></tr>\n",
      "      <tr class=\"spacer\" style=\"height:5px\"></tr>\n",
      "                <tr class='athing' id='27173728'>\n",
      "      <td align=\"right\" valign=\"top\" class=\"title\"><span class=\"rank\">5.</span></td>      <td valign=\"top\" class=\"votelinks\"><center><a id='up_27173728' href='vote?id=27173728&amp;how=up&amp;goto=news'><div class='votearrow' title='upvote'></div></a></center></td><td class=\"title\"><a href=\"https://origami.kosmulski.org/blog/2021-05-16-building-personal-origami-website-2021\" class=\"storylink\">Building a personal website in 2021</a><span class=\"sitebit comhead\"> (<a href=\"from?site=kosmulski.org\"><span class=\"sitestr\">kosmulski.org</span></a>)</span></td></tr><tr><td colspan=\"2\"></td><td class=\"subtext\">\n",
      "        <span class=\"score\" id=\"score_27173728\">347 points</span> by <a href=\"user?id=mkosmul\" class=\"hnuser\">mkosmul</a> <span class=\"age\"><a href=\"item?id=27173728\">11 hours ago</a></span> <span id=\"unv_27173728\"></span> | <a href=\"hide?id=27173728&amp;goto=news\">hide</a> | <a href=\"item?id=27173728\">142&nbsp;comments</a>              </td></tr>\n",
      "      <tr class=\"spacer\" style=\"height:5px\"></tr>\n",
      "                <tr class='athing' id='27173665'>\n",
      "      <td align=\"right\" valign=\"top\" class=\"title\"><span class=\"rank\">6.</span></td>      <td valign=\"top\" class=\"votelinks\"><center><a id='up_27173665' href='vote?id=27173665&amp;how=up&amp;goto=news'><div class='votearrow' title='upvote'></div></a></center></td><td class=\"title\"><a href=\"https://blog.khanacademy.org/half-a-million-lines-of-go/\" class=\"storylink\">Half a million lines of Go</a><span class=\"sitebit comhead\"> (<a href=\"from?site=khanacademy.org\"><span class=\"sitestr\">khanacademy.org</span></a>)</span></td></tr><tr><td colspan=\"2\"></td><td class=\"subtext\">\n",
      "        <span class=\"score\" id=\"score_27173665\">169 points</span> by <a href=\"user?id=nickcw\" class=\"hnuser\">nickcw</a> <span class=\"age\"><a href=\"item?id=27173665\">11 hours ago</a></span> <span id=\"unv_27173665\"></span> | <a href=\"hide?id=27173665&amp;goto=news\">hide</a> | <a href=\"item?id=27173665\">223&nbsp;comments</a>              </td></tr>\n",
      "      <tr class=\"spacer\" style=\"height:5px\"></tr>\n",
      "                <tr class='athing' id='27177718'>\n",
      "      <td align=\"right\" valign=\"top\" class=\"title\"><span class=\"rank\">7.</span></td>      <td valign=\"top\" class=\"votelinks\"><center><a id='up_27177718' href='vote?id=27177718&amp;how=up&amp;goto=news'><div class='votearrow' title='upvote'></div></a></center></td><td class=\"title\"><a href=\"https://www.folklore.org/StoryView.py?project=Macintosh&amp;story=Busy_Being_Born.txt\" class=\"storylink\">Busy Being Born (2004)</a><span class=\"sitebit comhead\"> (<a href=\"from?site=folklore.org\"><span class=\"sitestr\">folklore.org</span></a>)</span></td></tr><tr><td colspan=\"2\"></td><td class=\"subtext\">\n",
      "        <span class=\"score\" id=\"score_27177718\">74 points</span> by <a href=\"user?id=fortran77\" class=\"hnuser\">fortran77</a> <span class=\"age\"><a href=\"item?id=27177718\">2 hours ago</a></span> <span id=\"unv_27177718\"></span> | <a href=\"hide?id=27177718&amp;goto=news\">hide</a> | <a href=\"item?id=27177718\">10&nbsp;comments</a>              </td></tr>\n",
      "      <tr class=\"spacer\" style=\"height:5px\"></tr>\n",
      "                <tr class='athing' id='27175955'>\n",
      "      <td align=\"right\" valign=\"top\" class=\"title\"><span class=\"rank\">8.</span></td>      <td valign=\"top\" class=\"votelinks\"><center><a id='up_27175955' href='vote?id=27175955&amp;how=up&amp;goto=news'><div class='votearrow' title='upvote'></div></a></center></td><td class=\"title\"><a href=\"https://jpmens.net/2021/05/16/an-ios-app-update-that-really-annoys-me/\" class=\"storylink\">An iOS app update that annoys me</a><span class=\"sitebit comhead\"> (<a href=\"from?site=jpmens.net\"><span class=\"sitestr\">jpmens.net</span></a>)</span></td></tr><tr><td colspan=\"2\"></td><td class=\"subtext\">\n",
      "        <span class=\"score\" id=\"score_27175955\">141 points</span> by <a href=\"user?id=pcr910303\" class=\"hnuser\">pcr910303</a> <span class=\"age\"><a href=\"item?id=27175955\">6 hours ago</a></span> <span id=\"unv_27175955\"></span> | <a href=\"hide?id=27175955&amp;goto=news\">hide</a> | <a href=\"item?id=27175955\">58&nbsp;comments</a>              </td></tr>\n",
      "      <tr class=\"spacer\" style=\"height:5px\"></tr>\n",
      "                <tr class='athing' id='27175299'>\n",
      "      <td align=\"right\" valign=\"top\" class=\"title\"><span class=\"rank\">9.</span></td>      <td valign=\"top\" class=\"votelinks\"><center><a id='up_27175299' href='vote?id=27175299&amp;how=up&amp;goto=news'><div class='votearrow' title='upvote'></div></a></center></td><td class=\"title\"><a href=\"https://thehustle.co/the-secretary-who-turned-liquid-paper-into-a-multimillion-dollar-business/\" class=\"storylink\">Bette Graham, inventor and founder of Liquid Paper</a><span class=\"sitebit comhead\"> (<a href=\"from?site=thehustle.co\"><span class=\"sitestr\">thehustle.co</span></a>)</span></td></tr><tr><td colspan=\"2\"></td><td class=\"subtext\">\n",
      "        <span class=\"score\" id=\"score_27175299\">77 points</span> by <a href=\"user?id=paulpauper\" class=\"hnuser\">paulpauper</a> <span class=\"age\"><a href=\"item?id=27175299\">7 hours ago</a></span> <span id=\"unv_27175299\"></span> | <a href=\"hide?id=27175299&amp;goto=news\">hide</a> | <a href=\"item?id=27175299\">29&nbsp;comments</a>              </td></tr>\n",
      "      <tr class=\"spacer\" style=\"height:5px\"></tr>\n",
      "                <tr class='athing' id='27178395'>\n",
      "      <td align=\"right\" valign=\"top\" class=\"title\"><span class=\"rank\">10.</span></td>      <td valign=\"top\" class=\"votelinks\"><center><a id='up_27178395' href='vote?id=27178395&amp;how=up&amp;goto=news'><div class='votearrow' title='upvote'></div></a></center></td><td class=\"title\"><a href=\"https://www.wsj.com/articles/microsoft-directors-decided-bill-gates-needed-to-leave-board-due-to-prior-relationship-with-staffer-11621205803\" class=\"storylink\">Microsoft Decided Bill Gates Needed to Leave Board Due to Staff Relationship</a><span class=\"sitebit comhead\"> (<a href=\"from?site=wsj.com\"><span class=\"sitestr\">wsj.com</span></a>)</span></td></tr><tr><td colspan=\"2\"></td><td class=\"subtext\">\n",
      "        <span class=\"score\" id=\"score_27178395\">29 points</span> by <a href=\"user?id=neom\" class=\"hnuser\">neom</a> <span class=\"age\"><a href=\"item?id=27178395\">1 hour ago</a></span> <span id=\"unv_27178395\"></span> | <a href=\"hide?id=27178395&amp;goto=news\">hide</a> | <a href=\"item?id=27178395\">7&nbsp;comments</a>              </td></tr>\n",
      "      <tr class=\"spacer\" style=\"height:5px\"></tr>\n",
      "                <tr class='athing' id='27177746'>\n",
      "      <td align=\"right\" valign=\"top\" class=\"title\"><span class=\"rank\">11.</span></td>      <td valign=\"top\" class=\"votelinks\"><center><a id='up_27177746' href='vote?id=27177746&amp;how=up&amp;goto=news'><div class='votearrow' title='upvote'></div></a></center></td><td class=\"title\"><a href=\"https://ethz.ch/en/news-and-events/eth-news/news/2021/05/the-achilles-heel-of-the-coronavirus.html\" class=\"storylink\">The Achilles Heel of the Coronavirus</a><span class=\"sitebit comhead\"> (<a href=\"from?site=ethz.ch\"><span class=\"sitestr\">ethz.ch</span></a>)</span></td></tr><tr><td colspan=\"2\"></td><td class=\"subtext\">\n",
      "        <span class=\"score\" id=\"score_27177746\">29 points</span> by <a href=\"user?id=oumua_don17\" class=\"hnuser\">oumua_don17</a> <span class=\"age\"><a href=\"item?id=27177746\">2 hours ago</a></span> <span id=\"unv_27177746\"></span> | <a href=\"hide?id=27177746&amp;goto=news\">hide</a> | <a href=\"item?id=27177746\">4&nbsp;comments</a>              </td></tr>\n",
      "      <tr class=\"spacer\" style=\"height:5px\"></tr>\n",
      "                <tr class='athing' id='27176145'>\n",
      "      <td align=\"right\" valign=\"top\" class=\"title\"><span class=\"rank\">12.</span></td>      <td valign=\"top\" class=\"votelinks\"><center><a id='up_27176145' href='vote?id=27176145&amp;how=up&amp;goto=news'><div class='votearrow' title='upvote'></div></a></center></td><td class=\"title\"><a href=\"https://goteleport.com/blog/access-controls/\" class=\"storylink\">The search for a perfect access control system</a><span class=\"sitebit comhead\"> (<a href=\"from?site=goteleport.com\"><span class=\"sitestr\">goteleport.com</span></a>)</span></td></tr><tr><td colspan=\"2\"></td><td class=\"subtext\">\n",
      "        <span class=\"score\" id=\"score_27176145\">17 points</span> by <a href=\"user?id=aberoham\" class=\"hnuser\">aberoham</a> <span class=\"age\"><a href=\"item?id=27176145\">3 hours ago</a></span> <span id=\"unv_27176145\"></span> | <a href=\"hide?id=27176145&amp;goto=news\">hide</a> | <a href=\"item?id=27176145\">2&nbsp;comments</a>              </td></tr>\n",
      "      <tr class=\"spacer\" style=\"height:5px\"></tr>\n",
      "                <tr class='athing' id='27175960'>\n",
      "      <td align=\"right\" valign=\"top\" class=\"title\"><span class=\"rank\">13.</span></td>      <td valign=\"top\" class=\"votelinks\"><center><a id='up_27175960' href='vote?id=27175960&amp;how=up&amp;goto=news'><div class='votearrow' title='upvote'></div></a></center></td><td class=\"title\"><a href=\"https://christine.website/talks/systemd-the-good-parts-2021-05-16\" class=\"storylink\">Systemd: The Good Parts</a><span class=\"sitebit comhead\"> (<a href=\"from?site=christine.website\"><span class=\"sitestr\">christine.website</span></a>)</span></td></tr><tr><td colspan=\"2\"></td><td class=\"subtext\">\n",
      "        <span class=\"score\" id=\"score_27175960\">264 points</span> by <a href=\"user?id=pcr910303\" class=\"hnuser\">pcr910303</a> <span class=\"age\"><a href=\"item?id=27175960\">6 hours ago</a></span> <span id=\"unv_27175960\"></span> | <a href=\"hide?id=27175960&amp;goto=news\">hide</a> | <a href=\"item?id=27175960\">243&nbsp;comments</a>              </td></tr>\n",
      "      <tr class=\"spacer\" style=\"height:5px\"></tr>\n",
      "                <tr class='athing' id='27173967'>\n",
      "      <td align=\"right\" valign=\"top\" class=\"title\"><span class=\"rank\">14.</span></td>      <td valign=\"top\" class=\"votelinks\"><center><a id='up_27173967' href='vote?id=27173967&amp;how=up&amp;goto=news'><div class='votearrow' title='upvote'></div></a></center></td><td class=\"title\"><a href=\"https://faculty.georgetown.edu/jod/texts/twain.german.html\" class=\"storylink\">The Awful German Language (1880)</a><span class=\"sitebit comhead\"> (<a href=\"from?site=georgetown.edu\"><span class=\"sitestr\">georgetown.edu</span></a>)</span></td></tr><tr><td colspan=\"2\"></td><td class=\"subtext\">\n",
      "        <span class=\"score\" id=\"score_27173967\">91 points</span> by <a href=\"user?id=1cvmask\" class=\"hnuser\">1cvmask</a> <span class=\"age\"><a href=\"item?id=27173967\">10 hours ago</a></span> <span id=\"unv_27173967\"></span> | <a href=\"hide?id=27173967&amp;goto=news\">hide</a> | <a href=\"item?id=27173967\">118&nbsp;comments</a>              </td></tr>\n",
      "      <tr class=\"spacer\" style=\"height:5px\"></tr>\n",
      "                <tr class='athing' id='27173890'>\n",
      "      <td align=\"right\" valign=\"top\" class=\"title\"><span class=\"rank\">15.</span></td>      <td valign=\"top\" class=\"votelinks\"><center><a id='up_27173890' href='vote?id=27173890&amp;how=up&amp;goto=news'><div class='votearrow' title='upvote'></div></a></center></td><td class=\"title\"><a href=\"http://www.learndatalogtoday.org\" class=\"storylink\">Learn Datalog Today</a><span class=\"sitebit comhead\"> (<a href=\"from?site=learndatalogtoday.org\"><span class=\"sitestr\">learndatalogtoday.org</span></a>)</span></td></tr><tr><td colspan=\"2\"></td><td class=\"subtext\">\n",
      "        <span class=\"score\" id=\"score_27173890\">75 points</span> by <a href=\"user?id=cube2222\" class=\"hnuser\">cube2222</a> <span class=\"age\"><a href=\"item?id=27173890\">10 hours ago</a></span> <span id=\"unv_27173890\"></span> | <a href=\"hide?id=27173890&amp;goto=news\">hide</a> | <a href=\"item?id=27173890\">22&nbsp;comments</a>              </td></tr>\n",
      "      <tr class=\"spacer\" style=\"height:5px\"></tr>\n",
      "                <tr class='athing' id='27175622'>\n",
      "      <td align=\"right\" valign=\"top\" class=\"title\"><span class=\"rank\">16.</span></td>      <td valign=\"top\" class=\"votelinks\"><center><a id='up_27175622' href='vote?id=27175622&amp;how=up&amp;goto=news'><div class='votearrow' title='upvote'></div></a></center></td><td class=\"title\"><a href=\"https://www.rekt.news/value-rekt2/\" class=\"storylink\">Missing line in a smart contract leads to $10M hack</a><span class=\"sitebit comhead\"> (<a href=\"from?site=rekt.news\"><span class=\"sitestr\">rekt.news</span></a>)</span></td></tr><tr><td colspan=\"2\"></td><td class=\"subtext\">\n",
      "        <span class=\"score\" id=\"score_27175622\">206 points</span> by <a href=\"user?id=drdrey\" class=\"hnuser\">drdrey</a> <span class=\"age\"><a href=\"item?id=27175622\">7 hours ago</a></span> <span id=\"unv_27175622\"></span> | <a href=\"hide?id=27175622&amp;goto=news\">hide</a> | <a href=\"item?id=27175622\">203&nbsp;comments</a>              </td></tr>\n",
      "      <tr class=\"spacer\" style=\"height:5px\"></tr>\n",
      "                <tr class='athing' id='27178486'>\n",
      "      <td align=\"right\" valign=\"top\" class=\"title\"><span class=\"rank\">17.</span></td>      <td valign=\"top\" class=\"votelinks\"><center><a id='up_27178486' href='vote?id=27178486&amp;how=up&amp;goto=news'><div class='votearrow' title='upvote'></div></a></center></td><td class=\"title\"><a href=\"https://www.bloomberg.com/news/articles/2021-05-16/ceo-behind-5-500-stock-gain-says-his-secret-is-raising-salaries\" class=\"storylink\">CEO Behind 5,500% Stock Gain Says His Secret Is Raising Salaries</a><span class=\"sitebit comhead\"> (<a href=\"from?site=bloomberg.com\"><span class=\"sitestr\">bloomberg.com</span></a>)</span></td></tr><tr><td colspan=\"2\"></td><td class=\"subtext\">\n",
      "        <span class=\"score\" id=\"score_27178486\">16 points</span> by <a href=\"user?id=dgudkov\" class=\"hnuser\">dgudkov</a> <span class=\"age\"><a href=\"item?id=27178486\">1 hour ago</a></span> <span id=\"unv_27178486\"></span> | <a href=\"hide?id=27178486&amp;goto=news\">hide</a> | <a href=\"item?id=27178486\">3&nbsp;comments</a>              </td></tr>\n",
      "      <tr class=\"spacer\" style=\"height:5px\"></tr>\n",
      "                <tr class='athing' id='27175284'>\n",
      "      <td align=\"right\" valign=\"top\" class=\"title\"><span class=\"rank\">18.</span></td>      <td valign=\"top\" class=\"votelinks\"><center><a id='up_27175284' href='vote?id=27175284&amp;how=up&amp;goto=news'><div class='votearrow' title='upvote'></div></a></center></td><td class=\"title\"><a href=\"https://nickb.dev/blog/replacing-elasticsearch-with-rust-and-sqlite\" class=\"storylink\">Replacing Elasticsearch with Rust and SQLite (2017)</a><span class=\"sitebit comhead\"> (<a href=\"from?site=nickb.dev\"><span class=\"sitestr\">nickb.dev</span></a>)</span></td></tr><tr><td colspan=\"2\"></td><td class=\"subtext\">\n",
      "        <span class=\"score\" id=\"score_27175284\">130 points</span> by <a href=\"user?id=nethunters\" class=\"hnuser\">nethunters</a> <span class=\"age\"><a href=\"item?id=27175284\">7 hours ago</a></span> <span id=\"unv_27175284\"></span> | <a href=\"hide?id=27175284&amp;goto=news\">hide</a> | <a href=\"item?id=27175284\">19&nbsp;comments</a>              </td></tr>\n",
      "      <tr class=\"spacer\" style=\"height:5px\"></tr>\n",
      "                <tr class='athing' id='27176819'>\n",
      "      <td align=\"right\" valign=\"top\" class=\"title\"><span class=\"rank\">19.</span></td>      <td valign=\"top\" class=\"votelinks\"><center><a id='up_27176819' href='vote?id=27176819&amp;how=up&amp;goto=news'><div class='votearrow' title='upvote'></div></a></center></td><td class=\"title\"><a href=\"https://voiceofoc.org/2021/05/fullerton-settles-lawsuit-against-local-bloggers-for-publishing-secret-city-hall-documents-including-police-misconduct-records/\" class=\"storylink\">Fullerton settles lawsuit against bloggers for publishing City Hall documents</a><span class=\"sitebit comhead\"> (<a href=\"from?site=voiceofoc.org\"><span class=\"sitestr\">voiceofoc.org</span></a>)</span></td></tr><tr><td colspan=\"2\"></td><td class=\"subtext\">\n",
      "        <span class=\"score\" id=\"score_27176819\">74 points</span> by <a href=\"user?id=us0r\" class=\"hnuser\">us0r</a> <span class=\"age\"><a href=\"item?id=27176819\">4 hours ago</a></span> <span id=\"unv_27176819\"></span> | <a href=\"hide?id=27176819&amp;goto=news\">hide</a> | <a href=\"item?id=27176819\">15&nbsp;comments</a>              </td></tr>\n",
      "      <tr class=\"spacer\" style=\"height:5px\"></tr>\n",
      "                <tr class='athing' id='27175053'>\n",
      "      <td align=\"right\" valign=\"top\" class=\"title\"><span class=\"rank\">20.</span></td>      <td></td><td class=\"title\"><a href=\"https://www.cointracker.io/careers\" class=\"storylink\" rel=\"nofollow\">CoinTracker (YC W18) is hiring people passionate about cryptocurrency</a><span class=\"sitebit comhead\"> (<a href=\"from?site=cointracker.io\"><span class=\"sitestr\">cointracker.io</span></a>)</span></td></tr><tr><td colspan=\"2\"></td><td class=\"subtext\">\n",
      "        <span class=\"age\"><a href=\"item?id=27175053\">8 hours ago</a></span> | <a href=\"hide?id=27175053&amp;goto=news\">hide</a>      </td></tr>\n",
      "      <tr class=\"spacer\" style=\"height:5px\"></tr>\n",
      "                <tr class='athing' id='27173185'>\n",
      "      <td align=\"right\" valign=\"top\" class=\"title\"><span class=\"rank\">21.</span></td>      <td valign=\"top\" class=\"votelinks\"><center><a id='up_27173185' href='vote?id=27173185&amp;how=up&amp;goto=news'><div class='votearrow' title='upvote'></div></a></center></td><td class=\"title\"><a href=\"https://vegetableman.github.io/vandal/\" class=\"storylink\">Show HN: Vandal – an alternate navigator to Wayback Machine</a><span class=\"sitebit comhead\"> (<a href=\"from?site=vegetableman.github.io\"><span class=\"sitestr\">vegetableman.github.io</span></a>)</span></td></tr><tr><td colspan=\"2\"></td><td class=\"subtext\">\n",
      "        <span class=\"score\" id=\"score_27173185\">95 points</span> by <a href=\"user?id=vigneshanand\" class=\"hnuser\">vigneshanand</a> <span class=\"age\"><a href=\"item?id=27173185\">12 hours ago</a></span> <span id=\"unv_27173185\"></span> | <a href=\"hide?id=27173185&amp;goto=news\">hide</a> | <a href=\"item?id=27173185\">21&nbsp;comments</a>              </td></tr>\n",
      "      <tr class=\"spacer\" style=\"height:5px\"></tr>\n",
      "                <tr class='athing' id='27176976'>\n",
      "      <td align=\"right\" valign=\"top\" class=\"title\"><span class=\"rank\">22.</span></td>      <td valign=\"top\" class=\"votelinks\"><center><a id='up_27176976' href='vote?id=27176976&amp;how=up&amp;goto=news'><div class='votearrow' title='upvote'></div></a></center></td><td class=\"title\"><a href=\"https://www.pcmag.com/news/apple-epic-judge-asks-why-offering-consumers-a-choice-is-bad?\" class=\"storylink\">Apple-Epic Judge Asks Why Offering iOS Users a Choice Is Bad?</a><span class=\"sitebit comhead\"> (<a href=\"from?site=pcmag.com\"><span class=\"sitestr\">pcmag.com</span></a>)</span></td></tr><tr><td colspan=\"2\"></td><td class=\"subtext\">\n",
      "        <span class=\"score\" id=\"score_27176976\">97 points</span> by <a href=\"user?id=CrankyBear\" class=\"hnuser\">CrankyBear</a> <span class=\"age\"><a href=\"item?id=27176976\">4 hours ago</a></span> <span id=\"unv_27176976\"></span> | <a href=\"hide?id=27176976&amp;goto=news\">hide</a> | <a href=\"item?id=27176976\">71&nbsp;comments</a>              </td></tr>\n",
      "      <tr class=\"spacer\" style=\"height:5px\"></tr>\n",
      "                <tr class='athing' id='27164195'>\n",
      "      <td align=\"right\" valign=\"top\" class=\"title\"><span class=\"rank\">23.</span></td>      <td valign=\"top\" class=\"votelinks\"><center><a id='up_27164195' href='vote?id=27164195&amp;how=up&amp;goto=news'><div class='votearrow' title='upvote'></div></a></center></td><td class=\"title\"><a href=\"https://spectrum.ieee.org/automaton/robotics/space-robots/jpl-design-for-a-clockwork-rover-to-explore-venus\" class=\"storylink\">JPL's Design for a Clockwork Rover to Explore Venus (2017)</a><span class=\"sitebit comhead\"> (<a href=\"from?site=ieee.org\"><span class=\"sitestr\">ieee.org</span></a>)</span></td></tr><tr><td colspan=\"2\"></td><td class=\"subtext\">\n",
      "        <span class=\"score\" id=\"score_27164195\">129 points</span> by <a href=\"user?id=bartman\" class=\"hnuser\">bartman</a> <span class=\"age\"><a href=\"item?id=27164195\">13 hours ago</a></span> <span id=\"unv_27164195\"></span> | <a href=\"hide?id=27164195&amp;goto=news\">hide</a> | <a href=\"item?id=27164195\">44&nbsp;comments</a>              </td></tr>\n",
      "      <tr class=\"spacer\" style=\"height:5px\"></tr>\n",
      "                <tr class='athing' id='27171860'>\n",
      "      <td align=\"right\" valign=\"top\" class=\"title\"><span class=\"rank\">24.</span></td>      <td valign=\"top\" class=\"votelinks\"><center><a id='up_27171860' href='vote?id=27171860&amp;how=up&amp;goto=news'><div class='votearrow' title='upvote'></div></a></center></td><td class=\"title\"><a href=\"https://fabiensanglard.net/lte/index.html\" class=\"storylink\">Observing my cellphone switch towers</a><span class=\"sitebit comhead\"> (<a href=\"from?site=fabiensanglard.net\"><span class=\"sitestr\">fabiensanglard.net</span></a>)</span></td></tr><tr><td colspan=\"2\"></td><td class=\"subtext\">\n",
      "        <span class=\"score\" id=\"score_27171860\">650 points</span> by <a href=\"user?id=ingve\" class=\"hnuser\">ingve</a> <span class=\"age\"><a href=\"item?id=27171860\">17 hours ago</a></span> <span id=\"unv_27171860\"></span> | <a href=\"hide?id=27171860&amp;goto=news\">hide</a> | <a href=\"item?id=27171860\">113&nbsp;comments</a>              </td></tr>\n",
      "      <tr class=\"spacer\" style=\"height:5px\"></tr>\n",
      "                <tr class='athing' id='27163291'>\n",
      "      <td align=\"right\" valign=\"top\" class=\"title\"><span class=\"rank\">25.</span></td>      <td valign=\"top\" class=\"votelinks\"><center><a id='up_27163291' href='vote?id=27163291&amp;how=up&amp;goto=news'><div class='votearrow' title='upvote'></div></a></center></td><td class=\"title\"><a href=\"https://bossfightbooks.com\" class=\"storylink\">Great books on classic video games</a><span class=\"sitebit comhead\"> (<a href=\"from?site=bossfightbooks.com\"><span class=\"sitestr\">bossfightbooks.com</span></a>)</span></td></tr><tr><td colspan=\"2\"></td><td class=\"subtext\">\n",
      "        <span class=\"score\" id=\"score_27163291\">118 points</span> by <a href=\"user?id=hypnotist\" class=\"hnuser\">hypnotist</a> <span class=\"age\"><a href=\"item?id=27163291\">12 hours ago</a></span> <span id=\"unv_27163291\"></span> | <a href=\"hide?id=27163291&amp;goto=news\">hide</a> | <a href=\"item?id=27163291\">52&nbsp;comments</a>              </td></tr>\n",
      "      <tr class=\"spacer\" style=\"height:5px\"></tr>\n",
      "                <tr class='athing' id='27173859'>\n",
      "      <td align=\"right\" valign=\"top\" class=\"title\"><span class=\"rank\">26.</span></td>      <td valign=\"top\" class=\"votelinks\"><center><a id='up_27173859' href='vote?id=27173859&amp;how=up&amp;goto=news'><div class='votearrow' title='upvote'></div></a></center></td><td class=\"title\"><a href=\"https://www.msn.com/en-us/money/smallbusiness/the-man-who-didnt-invent-flamin-hot-cheetos/ar-BB1gMYd1\" class=\"storylink\">The man who didn't invent Flamin' Hot Cheetos</a><span class=\"sitebit comhead\"> (<a href=\"from?site=msn.com\"><span class=\"sitestr\">msn.com</span></a>)</span></td></tr><tr><td colspan=\"2\"></td><td class=\"subtext\">\n",
      "        <span class=\"score\" id=\"score_27173859\">246 points</span> by <a href=\"user?id=krustyburger\" class=\"hnuser\">krustyburger</a> <span class=\"age\"><a href=\"item?id=27173859\">10 hours ago</a></span> <span id=\"unv_27173859\"></span> | <a href=\"hide?id=27173859&amp;goto=news\">hide</a> | <a href=\"item?id=27173859\">107&nbsp;comments</a>              </td></tr>\n",
      "      <tr class=\"spacer\" style=\"height:5px\"></tr>\n",
      "                <tr class='athing' id='27171970'>\n",
      "      <td align=\"right\" valign=\"top\" class=\"title\"><span class=\"rank\">27.</span></td>      <td valign=\"top\" class=\"votelinks\"><center><a id='up_27171970' href='vote?id=27171970&amp;how=up&amp;goto=news'><div class='votearrow' title='upvote'></div></a></center></td><td class=\"title\"><a href=\"item?id=27171970\" class=\"storylink\">Ask HN: What are some tools / libraries you built yourself?</a></td></tr><tr><td colspan=\"2\"></td><td class=\"subtext\">\n",
      "        <span class=\"score\" id=\"score_27171970\">257 points</span> by <a href=\"user?id=graderjs\" class=\"hnuser\">graderjs</a> <span class=\"age\"><a href=\"item?id=27171970\">10 hours ago</a></span> <span id=\"unv_27171970\"></span> | <a href=\"hide?id=27171970&amp;goto=news\">hide</a> | <a href=\"item?id=27171970\">431&nbsp;comments</a>              </td></tr>\n",
      "      <tr class=\"spacer\" style=\"height:5px\"></tr>\n",
      "                <tr class='athing' id='27175739'>\n",
      "      <td align=\"right\" valign=\"top\" class=\"title\"><span class=\"rank\">28.</span></td>      <td valign=\"top\" class=\"votelinks\"><center><a id='up_27175739' href='vote?id=27175739&amp;how=up&amp;goto=news'><div class='votearrow' title='upvote'></div></a></center></td><td class=\"title\"><a href=\"https://www.cabinetmagazine.org/issues/63/mcconnell.php\" class=\"storylink\">Orphan Utopia: John Ballou Newbrough’s desert colony (2017)</a><span class=\"sitebit comhead\"> (<a href=\"from?site=cabinetmagazine.org\"><span class=\"sitestr\">cabinetmagazine.org</span></a>)</span></td></tr><tr><td colspan=\"2\"></td><td class=\"subtext\">\n",
      "        <span class=\"score\" id=\"score_27175739\">11 points</span> by <a href=\"user?id=not-now\" class=\"hnuser\">not-now</a> <span class=\"age\"><a href=\"item?id=27175739\">4 hours ago</a></span> <span id=\"unv_27175739\"></span> | <a href=\"hide?id=27175739&amp;goto=news\">hide</a> | <a href=\"item?id=27175739\">2&nbsp;comments</a>              </td></tr>\n",
      "      <tr class=\"spacer\" style=\"height:5px\"></tr>\n",
      "                <tr class='athing' id='27161056'>\n",
      "      <td align=\"right\" valign=\"top\" class=\"title\"><span class=\"rank\">29.</span></td>      <td valign=\"top\" class=\"votelinks\"><center><a id='up_27161056' href='vote?id=27161056&amp;how=up&amp;goto=news'><div class='votearrow' title='upvote'></div></a></center></td><td class=\"title\"><a href=\"https://www.economist.com/books-and-arts/2021/05/08/the-real-reasons-some-languages-are-harder-to-learn\" class=\"storylink\">Reasons some languages are harder to learn</a><span class=\"sitebit comhead\"> (<a href=\"from?site=economist.com\"><span class=\"sitestr\">economist.com</span></a>)</span></td></tr><tr><td colspan=\"2\"></td><td class=\"subtext\">\n",
      "        <span class=\"score\" id=\"score_27161056\">78 points</span> by <a href=\"user?id=prostoalex\" class=\"hnuser\">prostoalex</a> <span class=\"age\"><a href=\"item?id=27161056\">12 hours ago</a></span> <span id=\"unv_27161056\"></span> | <a href=\"hide?id=27161056&amp;goto=news\">hide</a> | <a href=\"item?id=27161056\">138&nbsp;comments</a>              </td></tr>\n",
      "      <tr class=\"spacer\" style=\"height:5px\"></tr>\n",
      "                <tr class='athing' id='27177503'>\n",
      "      <td align=\"right\" valign=\"top\" class=\"title\"><span class=\"rank\">30.</span></td>      <td valign=\"top\" class=\"votelinks\"><center><a id='up_27177503' href='vote?id=27177503&amp;how=up&amp;goto=news'><div class='votearrow' title='upvote'></div></a></center></td><td class=\"title\"><a href=\"https://www.economist.com/briefing/2021/05/15/there-have-been-7m-13m-excess-deaths-worldwide-during-the-pandemic\" class=\"storylink\">There have been 7M-13M excess deaths worldwide during the pandemic</a><span class=\"sitebit comhead\"> (<a href=\"from?site=economist.com\"><span class=\"sitestr\">economist.com</span></a>)</span></td></tr><tr><td colspan=\"2\"></td><td class=\"subtext\">\n",
      "        <span class=\"score\" id=\"score_27177503\">207 points</span> by <a href=\"user?id=pranshum\" class=\"hnuser\">pranshum</a> <span class=\"age\"><a href=\"item?id=27177503\">3 hours ago</a></span> <span id=\"unv_27177503\"></span> | <a href=\"hide?id=27177503&amp;goto=news\">hide</a> | <a href=\"item?id=27177503\">321&nbsp;comments</a>              </td></tr>\n",
      "      <tr class=\"spacer\" style=\"height:5px\"></tr>\n",
      "            <tr class=\"morespace\" style=\"height:10px\"></tr><tr><td colspan=\"2\"></td><td class=\"title\"><a href=\"news?p=2\" class=\"morelink\" rel=\"next\">More</a></td></tr>\n",
      "  </table>\n",
      "</td></tr>\n",
      "<tr><td><img src=\"s.gif\" height=\"10\" width=\"0\"><table width=\"100%\" cellspacing=\"0\" cellpadding=\"1\"><tr><td bgcolor=\"#ff6600\"></td></tr></table><br><center><span class=\"yclinks\"><a href=\"newsguidelines.html\">Guidelines</a>\n",
      "        | <a href=\"newsfaq.html\">FAQ</a>\n",
      "        | <a href=\"lists\">Lists</a>\n",
      "        | <a href=\"https://github.com/HackerNews/API\">API</a>\n",
      "        | <a href=\"security.html\">Security</a>\n",
      "        | <a href=\"http://www.ycombinator.com/legal/\">Legal</a>\n",
      "        | <a href=\"http://www.ycombinator.com/apply/\">Apply to YC</a>\n",
      "        | <a href=\"mailto:hn@ycombinator.com\">Contact</a></span><br><br><form method=\"get\" action=\"//hn.algolia.com/\">Search:\n",
      "          <input type=\"text\" name=\"q\" value=\"\" size=\"17\" autocorrect=\"off\" spellcheck=\"false\" autocapitalize=\"off\" autocomplete=\"false\"></form>\n",
      "            </center></td></tr>\n",
      "      </table></center></body><script type='text/javascript' src='hn.js?t6cz9VDBRNMVBhMCuz1j'></script></html>\n",
      "\n"
     ]
    }
   ],
   "source": [
    "import requests\n",
    "\n",
    "# Fetch a web page\n",
    "r = requests.get(\"https://news.ycombinator.com\")\n",
    "print(r.text)"
   ]
  },
  {
   "cell_type": "code",
   "execution_count": 5,
   "metadata": {},
   "outputs": [
    {
     "name": "stdout",
     "output_type": "stream",
     "text": [
      "\n",
      "        \n",
      "          \n",
      "        Hacker News\n",
      "        \n",
      "                  Hacker News\n",
      "              new | past | comments | ask | show | jobs | submit            \n",
      "                              login\n",
      "                          \n",
      "              \n",
      "\n",
      "              \n",
      "      1.      SeaGlass: City-Wide IMSI-Catcher Detection (2017) (washington.edu)\n",
      "        297 points by kogir 11 hours ago  | hide | 46&nbsp;comments              \n",
      "      \n",
      "                \n",
      "      2.      Coin Carbon Cap – PoW cryptocurrencies ranked by energy efficiency (coincarboncap.com)\n",
      "        201 points by GBiT 6 hours ago  | hide | 150&nbsp;comments              \n",
      "      \n",
      "                \n",
      "      3.      HTML Notepad – HTML WYSIWYG editor (html-notepad.com)\n",
      "        188 points by Tomte 10 hours ago  | hide | 59&nbsp;comments              \n",
      "      \n",
      "                \n",
      "      4.      The stack monoid revisited (raphlinus.github.io)\n",
      "        147 points by harperlee 10 hours ago  | hide | 2&nbsp;comments              \n",
      "      \n",
      "                \n",
      "      5.      Building a personal website in 2021 (kosmulski.org)\n",
      "        347 points by mkosmul 11 hours ago  | hide | 142&nbsp;comments              \n",
      "      \n",
      "                \n",
      "      6.      Half a million lines of Go (khanacademy.org)\n",
      "        169 points by nickcw 11 hours ago  | hide | 223&nbsp;comments              \n",
      "      \n",
      "                \n",
      "      7.      Busy Being Born (2004) (folklore.org)\n",
      "        74 points by fortran77 2 hours ago  | hide | 10&nbsp;comments              \n",
      "      \n",
      "                \n",
      "      8.      An iOS app update that annoys me (jpmens.net)\n",
      "        141 points by pcr910303 6 hours ago  | hide | 58&nbsp;comments              \n",
      "      \n",
      "                \n",
      "      9.      Bette Graham, inventor and founder of Liquid Paper (thehustle.co)\n",
      "        77 points by paulpauper 7 hours ago  | hide | 29&nbsp;comments              \n",
      "      \n",
      "                \n",
      "      10.      Microsoft Decided Bill Gates Needed to Leave Board Due to Staff Relationship (wsj.com)\n",
      "        29 points by neom 1 hour ago  | hide | 7&nbsp;comments              \n",
      "      \n",
      "                \n",
      "      11.      The Achilles Heel of the Coronavirus (ethz.ch)\n",
      "        29 points by oumua_don17 2 hours ago  | hide | 4&nbsp;comments              \n",
      "      \n",
      "                \n",
      "      12.      The search for a perfect access control system (goteleport.com)\n",
      "        17 points by aberoham 3 hours ago  | hide | 2&nbsp;comments              \n",
      "      \n",
      "                \n",
      "      13.      Systemd: The Good Parts (christine.website)\n",
      "        264 points by pcr910303 6 hours ago  | hide | 243&nbsp;comments              \n",
      "      \n",
      "                \n",
      "      14.      The Awful German Language (1880) (georgetown.edu)\n",
      "        91 points by 1cvmask 10 hours ago  | hide | 118&nbsp;comments              \n",
      "      \n",
      "                \n",
      "      15.      Learn Datalog Today (learndatalogtoday.org)\n",
      "        75 points by cube2222 10 hours ago  | hide | 22&nbsp;comments              \n",
      "      \n",
      "                \n",
      "      16.      Missing line in a smart contract leads to $10M hack (rekt.news)\n",
      "        206 points by drdrey 7 hours ago  | hide | 203&nbsp;comments              \n",
      "      \n",
      "                \n",
      "      17.      CEO Behind 5,500% Stock Gain Says His Secret Is Raising Salaries (bloomberg.com)\n",
      "        16 points by dgudkov 1 hour ago  | hide | 3&nbsp;comments              \n",
      "      \n",
      "                \n",
      "      18.      Replacing Elasticsearch with Rust and SQLite (2017) (nickb.dev)\n",
      "        130 points by nethunters 7 hours ago  | hide | 19&nbsp;comments              \n",
      "      \n",
      "                \n",
      "      19.      Fullerton settles lawsuit against bloggers for publishing City Hall documents (voiceofoc.org)\n",
      "        74 points by us0r 4 hours ago  | hide | 15&nbsp;comments              \n",
      "      \n",
      "                \n",
      "      20.      CoinTracker (YC W18) is hiring people passionate about cryptocurrency (cointracker.io)\n",
      "        8 hours ago | hide      \n",
      "      \n",
      "                \n",
      "      21.      Show HN: Vandal – an alternate navigator to Wayback Machine (vegetableman.github.io)\n",
      "        95 points by vigneshanand 12 hours ago  | hide | 21&nbsp;comments              \n",
      "      \n",
      "                \n",
      "      22.      Apple-Epic Judge Asks Why Offering iOS Users a Choice Is Bad? (pcmag.com)\n",
      "        97 points by CrankyBear 4 hours ago  | hide | 71&nbsp;comments              \n",
      "      \n",
      "                \n",
      "      23.      JPL's Design for a Clockwork Rover to Explore Venus (2017) (ieee.org)\n",
      "        129 points by bartman 13 hours ago  | hide | 44&nbsp;comments              \n",
      "      \n",
      "                \n",
      "      24.      Observing my cellphone switch towers (fabiensanglard.net)\n",
      "        650 points by ingve 17 hours ago  | hide | 113&nbsp;comments              \n",
      "      \n",
      "                \n",
      "      25.      Great books on classic video games (bossfightbooks.com)\n",
      "        118 points by hypnotist 12 hours ago  | hide | 52&nbsp;comments              \n",
      "      \n",
      "                \n",
      "      26.      The man who didn't invent Flamin' Hot Cheetos (msn.com)\n",
      "        246 points by krustyburger 10 hours ago  | hide | 107&nbsp;comments              \n",
      "      \n",
      "                \n",
      "      27.      Ask HN: What are some tools / libraries you built yourself?\n",
      "        257 points by graderjs 10 hours ago  | hide | 431&nbsp;comments              \n",
      "      \n",
      "                \n",
      "      28.      Orphan Utopia: John Ballou Newbrough’s desert colony (2017) (cabinetmagazine.org)\n",
      "        11 points by not-now 4 hours ago  | hide | 2&nbsp;comments              \n",
      "      \n",
      "                \n",
      "      29.      Reasons some languages are harder to learn (economist.com)\n",
      "        78 points by prostoalex 12 hours ago  | hide | 138&nbsp;comments              \n",
      "      \n",
      "                \n",
      "      30.      There have been 7M-13M excess deaths worldwide during the pandemic (economist.com)\n",
      "        207 points by pranshum 3 hours ago  | hide | 321&nbsp;comments              \n",
      "      \n",
      "            More\n",
      "  \n",
      "\n",
      "Guidelines\n",
      "        | FAQ\n",
      "        | Lists\n",
      "        | API\n",
      "        | Security\n",
      "        | Legal\n",
      "        | Apply to YC\n",
      "        | ContactSearch:\n",
      "          \n",
      "            \n",
      "      \n",
      "\n"
     ]
    }
   ],
   "source": [
    "import re\n",
    "\n",
    "# Remove HTML tags using RegEx\n",
    "pattern = re.compile(r'<.*?>')  # tags look like <...>\n",
    "print(pattern.sub('', r.text))  # replace them with blank"
   ]
  },
  {
   "cell_type": "code",
   "execution_count": 6,
   "metadata": {},
   "outputs": [
    {
     "name": "stdout",
     "output_type": "stream",
     "text": [
      "\n",
      "        \n",
      "          \n",
      "        Hacker News\n",
      "        \n",
      "                  Hacker News\n",
      "              new | past | comments | ask | show | jobs | submit            \n",
      "                              login\n",
      "                          \n",
      "              \n",
      "\n",
      "              \n",
      "      1.      SeaGlass: City-Wide IMSI-Catcher Detection (2017) (washington.edu)\n",
      "        297 points by kogir 11 hours ago  | hide | 46 comments              \n",
      "      \n",
      "                \n",
      "      2.      Coin Carbon Cap – PoW cryptocurrencies ranked by energy efficiency (coincarboncap.com)\n",
      "        201 points by GBiT 6 hours ago  | hide | 150 comments              \n",
      "      \n",
      "                \n",
      "      3.      HTML Notepad – HTML WYSIWYG editor (html-notepad.com)\n",
      "        188 points by Tomte 10 hours ago  | hide | 59 comments              \n",
      "      \n",
      "                \n",
      "      4.      The stack monoid revisited (raphlinus.github.io)\n",
      "        147 points by harperlee 10 hours ago  | hide | 2 comments              \n",
      "      \n",
      "                \n",
      "      5.      Building a personal website in 2021 (kosmulski.org)\n",
      "        347 points by mkosmul 11 hours ago  | hide | 142 comments              \n",
      "      \n",
      "                \n",
      "      6.      Half a million lines of Go (khanacademy.org)\n",
      "        169 points by nickcw 11 hours ago  | hide | 223 comments              \n",
      "      \n",
      "                \n",
      "      7.      Busy Being Born (2004) (folklore.org)\n",
      "        74 points by fortran77 2 hours ago  | hide | 10 comments              \n",
      "      \n",
      "                \n",
      "      8.      An iOS app update that annoys me (jpmens.net)\n",
      "        141 points by pcr910303 6 hours ago  | hide | 58 comments              \n",
      "      \n",
      "                \n",
      "      9.      Bette Graham, inventor and founder of Liquid Paper (thehustle.co)\n",
      "        77 points by paulpauper 7 hours ago  | hide | 29 comments              \n",
      "      \n",
      "                \n",
      "      10.      Microsoft Decided Bill Gates Needed to Leave Board Due to Staff Relationship (wsj.com)\n",
      "        29 points by neom 1 hour ago  | hide | 7 comments              \n",
      "      \n",
      "                \n",
      "      11.      The Achilles Heel of the Coronavirus (ethz.ch)\n",
      "        29 points by oumua_don17 2 hours ago  | hide | 4 comments              \n",
      "      \n",
      "                \n",
      "      12.      The search for a perfect access control system (goteleport.com)\n",
      "        17 points by aberoham 3 hours ago  | hide | 2 comments              \n",
      "      \n",
      "                \n",
      "      13.      Systemd: The Good Parts (christine.website)\n",
      "        264 points by pcr910303 6 hours ago  | hide | 243 comments              \n",
      "      \n",
      "                \n",
      "      14.      The Awful German Language (1880) (georgetown.edu)\n",
      "        91 points by 1cvmask 10 hours ago  | hide | 118 comments              \n",
      "      \n",
      "                \n",
      "      15.      Learn Datalog Today (learndatalogtoday.org)\n",
      "        75 points by cube2222 10 hours ago  | hide | 22 comments              \n",
      "      \n",
      "                \n",
      "      16.      Missing line in a smart contract leads to $10M hack (rekt.news)\n",
      "        206 points by drdrey 7 hours ago  | hide | 203 comments              \n",
      "      \n",
      "                \n",
      "      17.      CEO Behind 5,500% Stock Gain Says His Secret Is Raising Salaries (bloomberg.com)\n",
      "        16 points by dgudkov 1 hour ago  | hide | 3 comments              \n",
      "      \n",
      "                \n",
      "      18.      Replacing Elasticsearch with Rust and SQLite (2017) (nickb.dev)\n",
      "        130 points by nethunters 7 hours ago  | hide | 19 comments              \n",
      "      \n",
      "                \n",
      "      19.      Fullerton settles lawsuit against bloggers for publishing City Hall documents (voiceofoc.org)\n",
      "        74 points by us0r 4 hours ago  | hide | 15 comments              \n",
      "      \n",
      "                \n",
      "      20.      CoinTracker (YC W18) is hiring people passionate about cryptocurrency (cointracker.io)\n",
      "        8 hours ago | hide      \n",
      "      \n",
      "                \n",
      "      21.      Show HN: Vandal – an alternate navigator to Wayback Machine (vegetableman.github.io)\n",
      "        95 points by vigneshanand 12 hours ago  | hide | 21 comments              \n",
      "      \n",
      "                \n",
      "      22.      Apple-Epic Judge Asks Why Offering iOS Users a Choice Is Bad? (pcmag.com)\n",
      "        97 points by CrankyBear 4 hours ago  | hide | 71 comments              \n",
      "      \n",
      "                \n",
      "      23.      JPL's Design for a Clockwork Rover to Explore Venus (2017) (ieee.org)\n",
      "        129 points by bartman 13 hours ago  | hide | 44 comments              \n",
      "      \n",
      "                \n",
      "      24.      Observing my cellphone switch towers (fabiensanglard.net)\n",
      "        650 points by ingve 17 hours ago  | hide | 113 comments              \n",
      "      \n",
      "                \n",
      "      25.      Great books on classic video games (bossfightbooks.com)\n",
      "        118 points by hypnotist 12 hours ago  | hide | 52 comments              \n",
      "      \n",
      "                \n",
      "      26.      The man who didn't invent Flamin' Hot Cheetos (msn.com)\n",
      "        246 points by krustyburger 10 hours ago  | hide | 107 comments              \n",
      "      \n",
      "                \n",
      "      27.      Ask HN: What are some tools / libraries you built yourself?\n",
      "        257 points by graderjs 10 hours ago  | hide | 431 comments              \n",
      "      \n",
      "                \n",
      "      28.      Orphan Utopia: John Ballou Newbrough’s desert colony (2017) (cabinetmagazine.org)\n",
      "        11 points by not-now 4 hours ago  | hide | 2 comments              \n",
      "      \n",
      "                \n",
      "      29.      Reasons some languages are harder to learn (economist.com)\n",
      "        78 points by prostoalex 12 hours ago  | hide | 138 comments              \n",
      "      \n",
      "                \n",
      "      30.      There have been 7M-13M excess deaths worldwide during the pandemic (economist.com)\n",
      "        207 points by pranshum 3 hours ago  | hide | 321 comments              \n",
      "      \n",
      "            More\n",
      "  \n",
      "\n",
      "Guidelines\n",
      "        | FAQ\n",
      "        | Lists\n",
      "        | API\n",
      "        | Security\n",
      "        | Legal\n",
      "        | Apply to YC\n",
      "        | ContactSearch:\n",
      "          \n",
      "            \n",
      "      \n",
      "\n"
     ]
    }
   ],
   "source": [
    "from bs4 import BeautifulSoup\n",
    "\n",
    "# Remove HTML tags using Beautiful Soup library\n",
    "soup = BeautifulSoup(r.text, \"html5lib\")\n",
    "print(soup.get_text())"
   ]
  },
  {
   "cell_type": "code",
   "execution_count": 7,
   "metadata": {
    "scrolled": true
   },
   "outputs": [
    {
     "data": {
      "text/plain": [
       "<tr class=\"athing\" id=\"27173717\">\n",
       "      <td align=\"right\" class=\"title\" valign=\"top\"><span class=\"rank\">1.</span></td>      <td class=\"votelinks\" valign=\"top\"><center><a href=\"vote?id=27173717&amp;how=up&amp;goto=news\" id=\"up_27173717\"><div class=\"votearrow\" title=\"upvote\"></div></a></center></td><td class=\"title\"><a class=\"storylink\" href=\"https://seaglass.cs.washington.edu/\">SeaGlass: City-Wide IMSI-Catcher Detection (2017)</a><span class=\"sitebit comhead\"> (<a href=\"from?site=washington.edu\"><span class=\"sitestr\">washington.edu</span></a>)</span></td></tr>"
      ]
     },
     "execution_count": 7,
     "metadata": {},
     "output_type": "execute_result"
    }
   ],
   "source": [
    "# Find all articles\n",
    "summaries = soup.find_all(\"tr\", class_=\"athing\")\n",
    "summaries[0]"
   ]
  },
  {
   "cell_type": "code",
   "execution_count": 8,
   "metadata": {},
   "outputs": [
    {
     "data": {
      "text/plain": [
       "'SeaGlass: City-Wide IMSI-Catcher Detection (2017)'"
      ]
     },
     "execution_count": 8,
     "metadata": {},
     "output_type": "execute_result"
    }
   ],
   "source": [
    "# Extract title\n",
    "summaries[0].find(\"a\", class_=\"storylink\").get_text().strip()"
   ]
  },
  {
   "cell_type": "code",
   "execution_count": 9,
   "metadata": {},
   "outputs": [
    {
     "name": "stdout",
     "output_type": "stream",
     "text": [
      "30 Article summaries found. Sample:\n",
      "SeaGlass: City-Wide IMSI-Catcher Detection (2017)\n"
     ]
    }
   ],
   "source": [
    "# Find all articles, extract titles\n",
    "articles = []\n",
    "summaries = soup.find_all(\"tr\", class_=\"athing\")\n",
    "for summary in summaries:\n",
    "    title = summary.find(\"a\", class_=\"storylink\").get_text().strip()\n",
    "    articles.append((title))\n",
    "\n",
    "print(len(articles), \"Article summaries found. Sample:\")\n",
    "print(articles[0])"
   ]
  },
  {
   "cell_type": "markdown",
   "metadata": {
    "collapsed": true
   },
   "source": [
    "## Normalization"
   ]
  },
  {
   "cell_type": "markdown",
   "metadata": {},
   "source": [
    "### Case Normalization"
   ]
  },
  {
   "cell_type": "code",
   "execution_count": 10,
   "metadata": {},
   "outputs": [
    {
     "name": "stdout",
     "output_type": "stream",
     "text": [
      "The first time you see The Second Renaissance it may look boring. Look at it at least twice and definitely watch part 2. It will change your view of the matrix. Are the human people the ones who started the war ? Is AI a bad thing ?\n"
     ]
    }
   ],
   "source": [
    "# Sample text\n",
    "text = \"The first time you see The Second Renaissance it may look boring. Look at it at least twice and definitely watch part 2. It will change your view of the matrix. Are the human people the ones who started the war ? Is AI a bad thing ?\"\n",
    "print(text)"
   ]
  },
  {
   "cell_type": "code",
   "execution_count": 11,
   "metadata": {},
   "outputs": [
    {
     "name": "stdout",
     "output_type": "stream",
     "text": [
      "the first time you see the second renaissance it may look boring. look at it at least twice and definitely watch part 2. it will change your view of the matrix. are the human people the ones who started the war ? is ai a bad thing ?\n"
     ]
    }
   ],
   "source": [
    "# Convert to lowercase\n",
    "text = text.lower() \n",
    "print(text)"
   ]
  },
  {
   "cell_type": "markdown",
   "metadata": {},
   "source": [
    "### Punctuation Removal"
   ]
  },
  {
   "cell_type": "code",
   "execution_count": 12,
   "metadata": {},
   "outputs": [
    {
     "name": "stdout",
     "output_type": "stream",
     "text": [
      "the first time you see the second renaissance it may look boring  look at it at least twice and definitely watch part 2  it will change your view of the matrix  are the human people the ones who started the war   is ai a bad thing  \n"
     ]
    }
   ],
   "source": [
    "import re\n",
    "\n",
    "# Remove punctuation characters\n",
    "text = re.sub(r\"[^a-zA-Z0-9]\", \" \", text) \n",
    "print(text)"
   ]
  },
  {
   "cell_type": "markdown",
   "metadata": {},
   "source": [
    "## Tokenization"
   ]
  },
  {
   "cell_type": "code",
   "execution_count": 13,
   "metadata": {},
   "outputs": [
    {
     "name": "stdout",
     "output_type": "stream",
     "text": [
      "['the', 'first', 'time', 'you', 'see', 'the', 'second', 'renaissance', 'it', 'may', 'look', 'boring', 'look', 'at', 'it', 'at', 'least', 'twice', 'and', 'definitely', 'watch', 'part', '2', 'it', 'will', 'change', 'your', 'view', 'of', 'the', 'matrix', 'are', 'the', 'human', 'people', 'the', 'ones', 'who', 'started', 'the', 'war', 'is', 'ai', 'a', 'bad', 'thing']\n"
     ]
    }
   ],
   "source": [
    "# Split text into tokens (words)\n",
    "words = text.split()\n",
    "print(words)"
   ]
  },
  {
   "cell_type": "markdown",
   "metadata": {},
   "source": [
    "### NLTK: Natural Language ToolKit"
   ]
  },
  {
   "cell_type": "code",
   "execution_count": 14,
   "metadata": {},
   "outputs": [],
   "source": [
    "import os\n",
    "import nltk\n",
    "nltk.data.path.append(os.path.join(os.getcwd(), \"nltk_data\"))"
   ]
  },
  {
   "cell_type": "code",
   "execution_count": 15,
   "metadata": {},
   "outputs": [
    {
     "name": "stdout",
     "output_type": "stream",
     "text": [
      "Dr. Smith graduated from the University of Washington. He later started an analytics firm called Lux, which catered to enterprise customers.\n"
     ]
    }
   ],
   "source": [
    "# Another sample text\n",
    "text = \"Dr. Smith graduated from the University of Washington. He later started an analytics firm called Lux, which catered to enterprise customers.\"\n",
    "print(text)"
   ]
  },
  {
   "cell_type": "code",
   "execution_count": 16,
   "metadata": {},
   "outputs": [
    {
     "name": "stdout",
     "output_type": "stream",
     "text": [
      "['Dr.', 'Smith', 'graduated', 'from', 'the', 'University', 'of', 'Washington', '.', 'He', 'later', 'started', 'an', 'analytics', 'firm', 'called', 'Lux', ',', 'which', 'catered', 'to', 'enterprise', 'customers', '.']\n"
     ]
    }
   ],
   "source": [
    "from nltk.tokenize import word_tokenize\n",
    "\n",
    "# Split text into words using NLTK\n",
    "words = word_tokenize(text)\n",
    "print(words)"
   ]
  },
  {
   "cell_type": "code",
   "execution_count": 17,
   "metadata": {},
   "outputs": [
    {
     "name": "stdout",
     "output_type": "stream",
     "text": [
      "['Dr. Smith graduated from the University of Washington.', 'He later started an analytics firm called Lux, which catered to enterprise customers.']\n"
     ]
    }
   ],
   "source": [
    "from nltk.tokenize import sent_tokenize\n",
    "\n",
    "# Split text into sentences\n",
    "sentences = sent_tokenize(text)\n",
    "print(sentences)"
   ]
  },
  {
   "cell_type": "code",
   "execution_count": 18,
   "metadata": {},
   "outputs": [
    {
     "name": "stdout",
     "output_type": "stream",
     "text": [
      "['i', 'me', 'my', 'myself', 'we', 'our', 'ours', 'ourselves', 'you', \"you're\", \"you've\", \"you'll\", \"you'd\", 'your', 'yours', 'yourself', 'yourselves', 'he', 'him', 'his', 'himself', 'she', \"she's\", 'her', 'hers', 'herself', 'it', \"it's\", 'its', 'itself', 'they', 'them', 'their', 'theirs', 'themselves', 'what', 'which', 'who', 'whom', 'this', 'that', \"that'll\", 'these', 'those', 'am', 'is', 'are', 'was', 'were', 'be', 'been', 'being', 'have', 'has', 'had', 'having', 'do', 'does', 'did', 'doing', 'a', 'an', 'the', 'and', 'but', 'if', 'or', 'because', 'as', 'until', 'while', 'of', 'at', 'by', 'for', 'with', 'about', 'against', 'between', 'into', 'through', 'during', 'before', 'after', 'above', 'below', 'to', 'from', 'up', 'down', 'in', 'out', 'on', 'off', 'over', 'under', 'again', 'further', 'then', 'once', 'here', 'there', 'when', 'where', 'why', 'how', 'all', 'any', 'both', 'each', 'few', 'more', 'most', 'other', 'some', 'such', 'no', 'nor', 'not', 'only', 'own', 'same', 'so', 'than', 'too', 'very', 's', 't', 'can', 'will', 'just', 'don', \"don't\", 'should', \"should've\", 'now', 'd', 'll', 'm', 'o', 're', 've', 'y', 'ain', 'aren', \"aren't\", 'couldn', \"couldn't\", 'didn', \"didn't\", 'doesn', \"doesn't\", 'hadn', \"hadn't\", 'hasn', \"hasn't\", 'haven', \"haven't\", 'isn', \"isn't\", 'ma', 'mightn', \"mightn't\", 'mustn', \"mustn't\", 'needn', \"needn't\", 'shan', \"shan't\", 'shouldn', \"shouldn't\", 'wasn', \"wasn't\", 'weren', \"weren't\", 'won', \"won't\", 'wouldn', \"wouldn't\"]\n"
     ]
    }
   ],
   "source": [
    "# List stop words\n",
    "from nltk.corpus import stopwords\n",
    "print(stopwords.words(\"english\"))"
   ]
  },
  {
   "cell_type": "code",
   "execution_count": 19,
   "metadata": {},
   "outputs": [
    {
     "name": "stdout",
     "output_type": "stream",
     "text": [
      "['the', 'first', 'time', 'you', 'see', 'the', 'second', 'renaissance', 'it', 'may', 'look', 'boring', 'look', 'at', 'it', 'at', 'least', 'twice', 'and', 'definitely', 'watch', 'part', '2', 'it', 'will', 'change', 'your', 'view', 'of', 'the', 'matrix', 'are', 'the', 'human', 'people', 'the', 'ones', 'who', 'started', 'the', 'war', 'is', 'ai', 'a', 'bad', 'thing']\n"
     ]
    }
   ],
   "source": [
    "# Reset text\n",
    "text = \"The first time you see The Second Renaissance it may look boring. Look at it at least twice and definitely watch part 2. It will change your view of the matrix. Are the human people the ones who started the war ? Is AI a bad thing ?\"\n",
    "\n",
    "# Normalize it\n",
    "text = re.sub(r\"[^a-zA-Z0-9]\", \" \", text.lower())\n",
    "\n",
    "# Tokenize it\n",
    "words = text.split()\n",
    "print(words)"
   ]
  },
  {
   "cell_type": "code",
   "execution_count": 20,
   "metadata": {},
   "outputs": [
    {
     "name": "stdout",
     "output_type": "stream",
     "text": [
      "['first', 'time', 'see', 'second', 'renaissance', 'may', 'look', 'boring', 'look', 'least', 'twice', 'definitely', 'watch', 'part', '2', 'change', 'view', 'matrix', 'human', 'people', 'ones', 'started', 'war', 'ai', 'bad', 'thing']\n"
     ]
    }
   ],
   "source": [
    "# Remove stop words\n",
    "words = [w for w in words if w not in stopwords.words(\"english\")]\n",
    "print(words)"
   ]
  },
  {
   "cell_type": "markdown",
   "metadata": {},
   "source": [
    "### Sentence Parsing"
   ]
  },
  {
   "cell_type": "code",
   "execution_count": 21,
   "metadata": {},
   "outputs": [
    {
     "name": "stdout",
     "output_type": "stream",
     "text": [
      "(S\n",
      "  (NP I)\n",
      "  (VP\n",
      "    (VP (V shot) (NP (Det an) (N elephant)))\n",
      "    (PP (P in) (NP (Det my) (N pajamas)))))\n",
      "(S\n",
      "  (NP I)\n",
      "  (VP\n",
      "    (V shot)\n",
      "    (NP (Det an) (N elephant) (PP (P in) (NP (Det my) (N pajamas))))))\n"
     ]
    }
   ],
   "source": [
    "import nltk\n",
    "\n",
    "# Define a custom grammar\n",
    "my_grammar = nltk.CFG.fromstring(\"\"\"\n",
    "S -> NP VP\n",
    "PP -> P NP\n",
    "NP -> Det N | Det N PP | 'I'\n",
    "VP -> V NP | VP PP\n",
    "Det -> 'an' | 'my'\n",
    "N -> 'elephant' | 'pajamas'\n",
    "V -> 'shot'\n",
    "P -> 'in'\n",
    "\"\"\")\n",
    "parser = nltk.ChartParser(my_grammar)\n",
    "\n",
    "# Parse a sentence\n",
    "sentence = word_tokenize(\"I shot an elephant in my pajamas\")\n",
    "for tree in parser.parse(sentence):\n",
    "    print(tree)"
   ]
  },
  {
   "cell_type": "markdown",
   "metadata": {},
   "source": [
    "## Stemming & Lemmatization\n",
    "\n",
    "### Stemming"
   ]
  },
  {
   "cell_type": "code",
   "execution_count": 22,
   "metadata": {},
   "outputs": [
    {
     "name": "stdout",
     "output_type": "stream",
     "text": [
      "['first', 'time', 'see', 'second', 'renaiss', 'may', 'look', 'bore', 'look', 'least', 'twice', 'definit', 'watch', 'part', '2', 'chang', 'view', 'matrix', 'human', 'peopl', 'one', 'start', 'war', 'ai', 'bad', 'thing']\n"
     ]
    }
   ],
   "source": [
    "from nltk.stem.porter import PorterStemmer\n",
    "\n",
    "# Reduce words to their stems\n",
    "stemmed = [PorterStemmer().stem(w) for w in words]\n",
    "print(stemmed)"
   ]
  },
  {
   "cell_type": "markdown",
   "metadata": {},
   "source": [
    "### Lemmatization"
   ]
  },
  {
   "cell_type": "code",
   "execution_count": 23,
   "metadata": {},
   "outputs": [
    {
     "name": "stdout",
     "output_type": "stream",
     "text": [
      "['first', 'time', 'see', 'second', 'renaissance', 'may', 'look', 'boring', 'look', 'least', 'twice', 'definitely', 'watch', 'part', '2', 'change', 'view', 'matrix', 'human', 'people', 'one', 'started', 'war', 'ai', 'bad', 'thing']\n"
     ]
    }
   ],
   "source": [
    "from nltk.stem.wordnet import WordNetLemmatizer\n",
    "\n",
    "# Reduce words to their root form\n",
    "lemmed = [WordNetLemmatizer().lemmatize(w) for w in words]\n",
    "print(lemmed)"
   ]
  },
  {
   "cell_type": "code",
   "execution_count": 24,
   "metadata": {},
   "outputs": [
    {
     "name": "stdout",
     "output_type": "stream",
     "text": [
      "['first', 'time', 'see', 'second', 'renaissance', 'may', 'look', 'bore', 'look', 'least', 'twice', 'definitely', 'watch', 'part', '2', 'change', 'view', 'matrix', 'human', 'people', 'one', 'start', 'war', 'ai', 'bad', 'thing']\n"
     ]
    }
   ],
   "source": [
    "# Lemmatize verbs by specifying pos\n",
    "lemmed = [WordNetLemmatizer().lemmatize(w, pos='v') for w in lemmed]\n",
    "print(lemmed)"
   ]
  },
  {
   "cell_type": "code",
   "execution_count": null,
   "metadata": {},
   "outputs": [],
   "source": []
  },
  {
   "cell_type": "code",
   "execution_count": null,
   "metadata": {},
   "outputs": [],
   "source": []
  },
  {
   "cell_type": "code",
   "execution_count": null,
   "metadata": {},
   "outputs": [],
   "source": []
  },
  {
   "cell_type": "code",
   "execution_count": null,
   "metadata": {},
   "outputs": [],
   "source": []
  }
 ],
 "metadata": {
  "kernelspec": {
   "display_name": "Python 3",
   "language": "python",
   "name": "python3"
  },
  "language_info": {
   "codemirror_mode": {
    "name": "ipython",
    "version": 3
   },
   "file_extension": ".py",
   "mimetype": "text/x-python",
   "name": "python",
   "nbconvert_exporter": "python",
   "pygments_lexer": "ipython3",
   "version": "3.6.3"
  }
 },
 "nbformat": 4,
 "nbformat_minor": 2
}
